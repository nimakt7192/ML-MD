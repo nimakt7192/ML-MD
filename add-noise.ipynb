{
 "cells": [
  {
   "cell_type": "code",
   "execution_count": 68,
   "metadata": {},
   "outputs": [],
   "source": [
    "from ase.io import vasp\n",
    "import json \n",
    "import random\n",
    "import numpy as np\n",
    "import math"
   ]
  },
  {
   "cell_type": "code",
   "execution_count": 69,
   "metadata": {},
   "outputs": [],
   "source": [
    "f = \"Shannon_radii_dict.json\"\n",
    "def read_json(fjson):\n",
    "    with open(fjson) as f:\n",
    "        return json.load(f)\n",
    "data = read_json(f)"
   ]
  },
  {
   "cell_type": "code",
   "execution_count": 70,
   "metadata": {},
   "outputs": [],
   "source": [
    "# This function randomly selects some atoms (determined by user in sample_size)\n",
    "def selecting_atoms(N,sample_size):\n",
    "    R = [i for i in range(N)]\n",
    "    Selected=[]\n",
    "    for i in range(math.floor(N*sample_size)):\n",
    "        ran=math.floor(random.random()*(N-i))\n",
    "        Selected.append(R[ran])\n",
    "        R.remove(R[ran])\n",
    "    return Selected"
   ]
  },
  {
   "cell_type": "code",
   "execution_count": 71,
   "metadata": {},
   "outputs": [],
   "source": [
    "# This function determines the Shannon radii according the charge state, coordination of the atoms\n",
    "def Shannon_raddi(file,data,i):\n",
    "    if file.symbols[i] == 'Pb':\n",
    "        Radii=data['Pb']['2']['6']['only_spin']\n",
    "    elif file.symbols[i] == 'N':\n",
    "        Radii=data['N']['-3']['4']['only_spin']\n",
    "    elif file.symbols[i] == 'C':\n",
    "        Radii=data['C']['4']['6']['only_spin']\n",
    "    elif file.symbols[i] == 'H':\n",
    "        Radii=data['H']['1']['1']['only_spin']\n",
    "    elif file.symbols[i] == 'I':\n",
    "        Radii=data['I']['-1']['6']['only_spin']\n",
    "    return Radii"
   ]
  },
  {
   "cell_type": "code",
   "execution_count": 73,
   "metadata": {},
   "outputs": [],
   "source": [
    "#percent determines the maximum amplitude of the noise with respect to the Shannon raddi\n",
    "percent = 0.05\n",
    "# sample_size is the fraction of number of atoms where noise will be added\n",
    "sample_size=0.2\n",
    "#num_config sets the total number of disticnt configuration \n",
    "num_config=10\n",
    "#input file\n",
    "file = vasp.read_vasp('Ma3GuPb4I12_Opt.vasp')\n",
    "#N is the total number of atoms\n",
    "N=file.get_global_number_of_atoms()\n",
    "# Po_i has all the position of the atoms in an array\n",
    "Po_i=file.get_positions().round(5)\n",
    "for k in range(num_config):\n",
    "    # For every configuration, the positions are set back to the origianl ones\n",
    "    Po=Po_i.copy()\n",
    "    # Some atoms are randomly chosen\n",
    "    Selected = selecting_atoms(N,sample_size)\n",
    "    for i in Selected:\n",
    "    # Noise is added to all three components of the selected atoms\n",
    "        Rand = np.array([2*random.random()-1 for j in range(3)])\n",
    "        Radii=Shannon_raddi(file,data,i)\n",
    "        Po[i,:]+= Rand*Radii*percent\n",
    "    file.set_positions(Po)\n",
    "    # Save the file in the POSCAR format\n",
    "    vasp.write_vasp(f\"Ma3GuPb4I12_config_{k}.vasp\",file,direct=True)"
   ]
  },
  {
   "cell_type": "code",
   "execution_count": null,
   "metadata": {},
   "outputs": [],
   "source": []
  }
 ],
 "metadata": {
  "kernelspec": {
   "display_name": "Python 3.9.12 ('base')",
   "language": "python",
   "name": "python3"
  },
  "language_info": {
   "codemirror_mode": {
    "name": "ipython",
    "version": 3
   },
   "file_extension": ".py",
   "mimetype": "text/x-python",
   "name": "python",
   "nbconvert_exporter": "python",
   "pygments_lexer": "ipython3",
   "version": "3.9.12"
  },
  "orig_nbformat": 4,
  "vscode": {
   "interpreter": {
    "hash": "1ee85631bbf8e7b714529471fe66c9bec37716b0406302ab85cb81389d3701e3"
   }
  }
 },
 "nbformat": 4,
 "nbformat_minor": 2
}
